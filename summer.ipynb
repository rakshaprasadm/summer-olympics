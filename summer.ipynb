{
  "nbformat": 4,
  "nbformat_minor": 0,
  "metadata": {
    "colab": {
      "name": "summer.ipynb",
      "provenance": []
    },
    "kernelspec": {
      "display_name": "Python 3",
      "name": "python3"
    },
    "language_info": {
      "name": "python"
    }
  },
  "cells": [
    {
      "cell_type": "code",
      "metadata": {
        "id": "3dqewWU9PITW"
      },
      "source": [
        "import pandas as pd\n",
        "import numpy as np\n",
        "import matplotlib.pyplot as plt"
      ],
      "execution_count": 4,
      "outputs": []
    },
    {
      "cell_type": "code",
      "metadata": {
        "id": "opwazGy3NgF5"
      },
      "source": [
        "df = pd.read_csv(\"/content/summer.csv\")"
      ],
      "execution_count": 7,
      "outputs": []
    },
    {
      "cell_type": "code",
      "metadata": {
        "colab": {
          "base_uri": "https://localhost:8080/",
          "height": 204
        },
        "id": "SKV5cEtvPgDH",
        "outputId": "11f33eab-360a-4d5e-91de-d6f15bcd4c39"
      },
      "source": [
        "df.head()"
      ],
      "execution_count": 12,
      "outputs": [
        {
          "output_type": "execute_result",
          "data": {
            "text/html": [
              "<div>\n",
              "<style scoped>\n",
              "    .dataframe tbody tr th:only-of-type {\n",
              "        vertical-align: middle;\n",
              "    }\n",
              "\n",
              "    .dataframe tbody tr th {\n",
              "        vertical-align: top;\n",
              "    }\n",
              "\n",
              "    .dataframe thead th {\n",
              "        text-align: right;\n",
              "    }\n",
              "</style>\n",
              "<table border=\"1\" class=\"dataframe\">\n",
              "  <thead>\n",
              "    <tr style=\"text-align: right;\">\n",
              "      <th></th>\n",
              "      <th>Year</th>\n",
              "      <th>City</th>\n",
              "      <th>Sport</th>\n",
              "      <th>Discipline</th>\n",
              "      <th>Athlete</th>\n",
              "      <th>Country</th>\n",
              "      <th>Gender</th>\n",
              "      <th>Event</th>\n",
              "      <th>Medal</th>\n",
              "    </tr>\n",
              "  </thead>\n",
              "  <tbody>\n",
              "    <tr>\n",
              "      <th>0</th>\n",
              "      <td>1896</td>\n",
              "      <td>Athens</td>\n",
              "      <td>Aquatics</td>\n",
              "      <td>Swimming</td>\n",
              "      <td>HAJOS, Alfred</td>\n",
              "      <td>HUN</td>\n",
              "      <td>Men</td>\n",
              "      <td>100M Freestyle</td>\n",
              "      <td>Gold</td>\n",
              "    </tr>\n",
              "    <tr>\n",
              "      <th>1</th>\n",
              "      <td>1896</td>\n",
              "      <td>Athens</td>\n",
              "      <td>Aquatics</td>\n",
              "      <td>Swimming</td>\n",
              "      <td>HERSCHMANN, Otto</td>\n",
              "      <td>AUT</td>\n",
              "      <td>Men</td>\n",
              "      <td>100M Freestyle</td>\n",
              "      <td>Silver</td>\n",
              "    </tr>\n",
              "    <tr>\n",
              "      <th>2</th>\n",
              "      <td>1896</td>\n",
              "      <td>Athens</td>\n",
              "      <td>Aquatics</td>\n",
              "      <td>Swimming</td>\n",
              "      <td>DRIVAS, Dimitrios</td>\n",
              "      <td>GRE</td>\n",
              "      <td>Men</td>\n",
              "      <td>100M Freestyle For Sailors</td>\n",
              "      <td>Bronze</td>\n",
              "    </tr>\n",
              "    <tr>\n",
              "      <th>3</th>\n",
              "      <td>1896</td>\n",
              "      <td>Athens</td>\n",
              "      <td>Aquatics</td>\n",
              "      <td>Swimming</td>\n",
              "      <td>MALOKINIS, Ioannis</td>\n",
              "      <td>GRE</td>\n",
              "      <td>Men</td>\n",
              "      <td>100M Freestyle For Sailors</td>\n",
              "      <td>Gold</td>\n",
              "    </tr>\n",
              "    <tr>\n",
              "      <th>4</th>\n",
              "      <td>1896</td>\n",
              "      <td>Athens</td>\n",
              "      <td>Aquatics</td>\n",
              "      <td>Swimming</td>\n",
              "      <td>CHASAPIS, Spiridon</td>\n",
              "      <td>GRE</td>\n",
              "      <td>Men</td>\n",
              "      <td>100M Freestyle For Sailors</td>\n",
              "      <td>Silver</td>\n",
              "    </tr>\n",
              "  </tbody>\n",
              "</table>\n",
              "</div>"
            ],
            "text/plain": [
              "   Year    City     Sport  ... Gender                       Event   Medal\n",
              "0  1896  Athens  Aquatics  ...    Men              100M Freestyle    Gold\n",
              "1  1896  Athens  Aquatics  ...    Men              100M Freestyle  Silver\n",
              "2  1896  Athens  Aquatics  ...    Men  100M Freestyle For Sailors  Bronze\n",
              "3  1896  Athens  Aquatics  ...    Men  100M Freestyle For Sailors    Gold\n",
              "4  1896  Athens  Aquatics  ...    Men  100M Freestyle For Sailors  Silver\n",
              "\n",
              "[5 rows x 9 columns]"
            ]
          },
          "metadata": {},
          "execution_count": 12
        }
      ]
    },
    {
      "cell_type": "code",
      "metadata": {
        "colab": {
          "base_uri": "https://localhost:8080/"
        },
        "id": "iqFAQ_ef__fr",
        "outputId": "1dd2bd8e-764e-4e05-891a-0752f09e8095"
      },
      "source": [
        "len(df)"
      ],
      "execution_count": 13,
      "outputs": [
        {
          "output_type": "execute_result",
          "data": {
            "text/plain": [
              "31165"
            ]
          },
          "metadata": {},
          "execution_count": 13
        }
      ]
    },
    {
      "cell_type": "code",
      "metadata": {
        "colab": {
          "base_uri": "https://localhost:8080/"
        },
        "id": "YiU2-UwgAA6v",
        "outputId": "b425dd7a-6881-4438-8b6d-2653a08813b4"
      },
      "source": [
        "df.isnull().sum()"
      ],
      "execution_count": 14,
      "outputs": [
        {
          "output_type": "execute_result",
          "data": {
            "text/plain": [
              "Year          0\n",
              "City          0\n",
              "Sport         0\n",
              "Discipline    0\n",
              "Athlete       0\n",
              "Country       4\n",
              "Gender        0\n",
              "Event         0\n",
              "Medal         0\n",
              "dtype: int64"
            ]
          },
          "metadata": {},
          "execution_count": 14
        }
      ]
    },
    {
      "cell_type": "code",
      "metadata": {
        "colab": {
          "base_uri": "https://localhost:8080/"
        },
        "id": "pFY0dUZP_BKU",
        "outputId": "5ea50961-2b0b-4ce6-edfb-83b3dd5143da"
      },
      "source": [
        "print(\"*******************************************************************************************\")\n",
        "print(\"*******************************************************************************************\")"
      ],
      "execution_count": 15,
      "outputs": [
        {
          "output_type": "stream",
          "name": "stdout",
          "text": [
            "*******************************************************************************************\n",
            "*******************************************************************************************\n"
          ]
        }
      ]
    },
    {
      "cell_type": "markdown",
      "metadata": {
        "id": "WCCV1INaPOrq"
      },
      "source": [
        "1. In how many cities Summer Olympics is held so far?"
      ]
    },
    {
      "cell_type": "code",
      "metadata": {
        "colab": {
          "base_uri": "https://localhost:8080/"
        },
        "id": "aiUINToCN5T3",
        "outputId": "bc17a4d2-6925-4012-b264-b88c68e15353"
      },
      "source": [
        "df['City'].unique()"
      ],
      "execution_count": 19,
      "outputs": [
        {
          "output_type": "execute_result",
          "data": {
            "text/plain": [
              "array(['Athens', 'Paris', 'St Louis', 'London', 'Stockholm', 'Antwerp',\n",
              "       'Amsterdam', 'Los Angeles', 'Berlin', 'Helsinki',\n",
              "       'Melbourne / Stockholm', 'Rome', 'Tokyo', 'Mexico', 'Munich',\n",
              "       'Montreal', 'Moscow', 'Seoul', 'Barcelona', 'Atlanta', 'Sydney',\n",
              "       'Beijing'], dtype=object)"
            ]
          },
          "metadata": {},
          "execution_count": 19
        }
      ]
    },
    {
      "cell_type": "code",
      "metadata": {
        "colab": {
          "base_uri": "https://localhost:8080/"
        },
        "id": "2jaiDjSz6K1k",
        "outputId": "b550df82-8680-45a1-9330-71e03c84af56"
      },
      "source": [
        "df['City']"
      ],
      "execution_count": 20,
      "outputs": [
        {
          "output_type": "execute_result",
          "data": {
            "text/plain": [
              "0        Athens\n",
              "1        Athens\n",
              "2        Athens\n",
              "3        Athens\n",
              "4        Athens\n",
              "          ...  \n",
              "31160    London\n",
              "31161    London\n",
              "31162    London\n",
              "31163    London\n",
              "31164    London\n",
              "Name: City, Length: 31165, dtype: object"
            ]
          },
          "metadata": {},
          "execution_count": 20
        }
      ]
    },
    {
      "cell_type": "code",
      "metadata": {
        "colab": {
          "base_uri": "https://localhost:8080/"
        },
        "id": "JwRxXb88_4ij",
        "outputId": "5400c120-e91b-4e6e-e256-55d396c16296"
      },
      "source": [
        "city = []\n",
        "city = df['Country'].unique()\n",
        "city"
      ],
      "execution_count": 21,
      "outputs": [
        {
          "output_type": "execute_result",
          "data": {
            "text/plain": [
              "array(['HUN', 'AUT', 'GRE', 'USA', 'GER', 'GBR', 'FRA', 'AUS', 'DEN',\n",
              "       'SUI', 'ZZX', 'NED', 'BEL', 'IND', 'CAN', 'BOH', 'SWE', 'NOR',\n",
              "       'ESP', 'ITA', 'CUB', 'ANZ', 'RSA', 'FIN', 'RU1', 'EST', 'TCH',\n",
              "       'NZL', 'BRA', 'JPN', 'LUX', 'ARG', 'POL', 'POR', 'URU', 'YUG',\n",
              "       'ROU', 'HAI', 'EGY', 'PHI', 'IRL', 'CHI', 'LAT', 'MEX', 'TUR',\n",
              "       'PAN', 'JAM', 'SRI', 'KOR', 'PUR', 'PER', 'IRI', 'TRI', 'URS',\n",
              "       'VEN', 'BUL', 'LIB', 'EUA', 'ISL', 'PAK', 'BAH', 'BWI', 'TPE',\n",
              "       'ETH', 'MAR', 'GHA', 'IRQ', 'SIN', 'TUN', 'KEN', 'NGR', 'GDR',\n",
              "       'FRG', 'UGA', 'CMR', 'MGL', 'PRK', 'COL', 'NIG', 'THA', 'BER',\n",
              "       'TAN', 'GUY', 'ZIM', 'CHN', 'CIV', 'ZAM', 'DOM', 'ALG', 'SYR',\n",
              "       'SUR', 'CRC', 'INA', 'SEN', 'DJI', 'AHO', 'ISV', 'EUN', 'NAM',\n",
              "       'QAT', 'LTU', 'MAS', 'CRO', 'ISR', 'SLO', 'IOP', 'RUS', 'UKR',\n",
              "       'ECU', 'BDI', 'MOZ', 'CZE', 'BLR', 'TGA', 'KAZ', 'UZB', 'SVK',\n",
              "       'MDA', 'GEO', 'HKG', 'ARM', 'AZE', 'BAR', 'KSA', 'KGZ', 'KUW',\n",
              "       'VIE', 'MKD', 'SCG', 'ERI', 'PAR', 'UAE', 'SRB', 'SUD', 'MRI',\n",
              "       'TOG', 'TJK', 'AFG', nan, 'BRN', 'GUA', 'GRN', 'TTO', 'BOT', 'MNE',\n",
              "       'CYP', 'SGP', 'GAB'], dtype=object)"
            ]
          },
          "metadata": {},
          "execution_count": 21
        }
      ]
    },
    {
      "cell_type": "code",
      "metadata": {
        "colab": {
          "base_uri": "https://localhost:8080/"
        },
        "id": "M84J3pMKOZp-",
        "outputId": "7ad4df57-8f90-4268-c4a1-c632f894a151"
      },
      "source": [
        "#to answer for -----number of cities where olympics took place\n",
        "number = len(city) - 1\n",
        "print(\"The Number of Cities Where Summer Olympics is held is \\n\", number)"
      ],
      "execution_count": 22,
      "outputs": [
        {
          "output_type": "stream",
          "name": "stdout",
          "text": [
            "The Number of Cities Where Summer Olympics is held is \n",
            " 147\n"
          ]
        }
      ]
    },
    {
      "cell_type": "code",
      "metadata": {
        "colab": {
          "base_uri": "https://localhost:8080/"
        },
        "id": "OjC6c2mD_MEo",
        "outputId": "2fa644b7-3caa-44e9-d352-9361e97dfdfe"
      },
      "source": [
        "print(\"===========================================================================================\")\n",
        "print(\"===========================================================================================\")"
      ],
      "execution_count": null,
      "outputs": [
        {
          "output_type": "stream",
          "name": "stdout",
          "text": [
            "===========================================================================================\n",
            "===========================================================================================\n"
          ]
        }
      ]
    },
    {
      "cell_type": "markdown",
      "metadata": {
        "id": "Sxb1Gfp1OIpn"
      },
      "source": [
        "2. Which sport is having most number of Gold Medals so far? (Top 5)"
      ]
    },
    {
      "cell_type": "code",
      "metadata": {
        "colab": {
          "base_uri": "https://localhost:8080/"
        },
        "id": "y6Fldl7vOLgS",
        "outputId": "4d14c3b6-c8ac-4a09-e330-c99629003612"
      },
      "source": [
        "#to identify the number of medals \n",
        "data =[]\n",
        "for brand in df['Medal'].unique():\n",
        "    data.append([brand , len(df[df['Medal']  == brand])])\n",
        "print(data)"
      ],
      "execution_count": null,
      "outputs": [
        {
          "output_type": "stream",
          "name": "stdout",
          "text": [
            "[['Gold', 10486], ['Silver', 10310], ['Bronze', 10369]]\n"
          ]
        }
      ]
    },
    {
      "cell_type": "code",
      "metadata": {
        "colab": {
          "base_uri": "https://localhost:8080/"
        },
        "id": "mMY1eScA9lD0",
        "outputId": "6948ff78-578b-4a89-8bed-7bb3cc3e38c1"
      },
      "source": [
        "#to find out how many number of gold medals are present\n",
        "(df[\"Medal\"] == \"Gold\").sum()\n"
      ],
      "execution_count": null,
      "outputs": [
        {
          "output_type": "execute_result",
          "data": {
            "text/plain": [
              "10486"
            ]
          },
          "metadata": {},
          "execution_count": 9
        }
      ]
    },
    {
      "cell_type": "code",
      "metadata": {
        "colab": {
          "base_uri": "https://localhost:8080/",
          "height": 204
        },
        "id": "LQ2LLCORO0kh",
        "outputId": "6cfa1d0b-481e-4bd0-b460-8e276a98015d"
      },
      "source": [
        "#finding the number of gold medal won in all sport\n",
        "g = df[df['Medal'] == 'Gold']\n",
        "gold = []\n",
        "for gl in g['Sport'].unique():\n",
        "    gold.append([gl, len(g[g['Sport'] == gl])])\n",
        "gold = pd.DataFrame(gold, columns = ['Sport', 'Medals'])\n",
        "gold = gold.sort_values(by = 'Medals', ascending = False).head()     #only 1st 5 rows\n",
        "gold"
      ],
      "execution_count": 28,
      "outputs": [
        {
          "output_type": "execute_result",
          "data": {
            "text/html": [
              "<div>\n",
              "<style scoped>\n",
              "    .dataframe tbody tr th:only-of-type {\n",
              "        vertical-align: middle;\n",
              "    }\n",
              "\n",
              "    .dataframe tbody tr th {\n",
              "        vertical-align: top;\n",
              "    }\n",
              "\n",
              "    .dataframe thead th {\n",
              "        text-align: right;\n",
              "    }\n",
              "</style>\n",
              "<table border=\"1\" class=\"dataframe\">\n",
              "  <thead>\n",
              "    <tr style=\"text-align: right;\">\n",
              "      <th></th>\n",
              "      <th>Sport</th>\n",
              "      <th>Medals</th>\n",
              "    </tr>\n",
              "  </thead>\n",
              "  <tbody>\n",
              "    <tr>\n",
              "      <th>0</th>\n",
              "      <td>Aquatics</td>\n",
              "      <td>1421</td>\n",
              "    </tr>\n",
              "    <tr>\n",
              "      <th>1</th>\n",
              "      <td>Athletics</td>\n",
              "      <td>1215</td>\n",
              "    </tr>\n",
              "    <tr>\n",
              "      <th>17</th>\n",
              "      <td>Rowing</td>\n",
              "      <td>890</td>\n",
              "    </tr>\n",
              "    <tr>\n",
              "      <th>4</th>\n",
              "      <td>Gymnastics</td>\n",
              "      <td>820</td>\n",
              "    </tr>\n",
              "    <tr>\n",
              "      <th>3</th>\n",
              "      <td>Fencing</td>\n",
              "      <td>552</td>\n",
              "    </tr>\n",
              "  </tbody>\n",
              "</table>\n",
              "</div>"
            ],
            "text/plain": [
              "         Sport  Medals\n",
              "0     Aquatics    1421\n",
              "1    Athletics    1215\n",
              "17      Rowing     890\n",
              "4   Gymnastics     820\n",
              "3      Fencing     552"
            ]
          },
          "metadata": {},
          "execution_count": 28
        }
      ]
    },
    {
      "cell_type": "code",
      "metadata": {
        "colab": {
          "base_uri": "https://localhost:8080/",
          "height": 399
        },
        "id": "ywVegqdwPeLn",
        "outputId": "a0283f3d-0f06-45f5-cc78-95ecc256e1dc"
      },
      "source": [
        "gold.plot(x = 'Sport', y = 'Medals', kind = 'bar', color = 'red', figsize = (5,5))"
      ],
      "execution_count": 42,
      "outputs": [
        {
          "output_type": "execute_result",
          "data": {
            "text/plain": [
              "<matplotlib.axes._subplots.AxesSubplot at 0x7f7549962ad0>"
            ]
          },
          "metadata": {},
          "execution_count": 42
        },
        {
          "output_type": "display_data",
          "data": {
            "image/png": "[encoded data removed]",
            "text/plain": [
              "<Figure size 360x360 with 1 Axes>"
            ]
          },
          "metadata": {
            "needs_background": "light"
          }
        }
      ]
    },
    {
      "cell_type": "code",
      "metadata": {
        "colab": {
          "base_uri": "https://localhost:8080/"
        },
        "id": "YxgAQO6RfwTp",
        "outputId": "b1bb738e-f5d2-437c-80c0-f5c6577b2fe2"
      },
      "source": [
        "print(\"==============================================================================================\")\n",
        "print(\"==============================================================================================\")"
      ],
      "execution_count": 88,
      "outputs": [
        {
          "output_type": "stream",
          "name": "stdout",
          "text": [
            "==============================================================================================\n",
            "==============================================================================================\n"
          ]
        }
      ]
    },
    {
      "cell_type": "markdown",
      "metadata": {
        "id": "bl9p4O6WOL7R"
      },
      "source": [
        "3. Which sport is having most number of medals so far? (Top 5)"
      ]
    },
    {
      "cell_type": "code",
      "metadata": {
        "id": "tDVcJpx2OQEZ",
        "colab": {
          "base_uri": "https://localhost:8080/",
          "height": 204
        },
        "outputId": "689fc76a-b8b1-4028-853d-6848b10854aa"
      },
      "source": [
        "sp = []                                                                    \n",
        "for s in df['Sport'].unique():\n",
        "    sp.append([s, len(df[df['Sport'] == s])])\n",
        "sp = pd.DataFrame(sp, columns = ['Sport', 'Total Medals'])\n",
        "sp = sp.sort_values(by = 'Total Medals', ascending = False).head()\n",
        "sp"
      ],
      "execution_count": 32,
      "outputs": [
        {
          "output_type": "execute_result",
          "data": {
            "text/html": [
              "<div>\n",
              "<style scoped>\n",
              "    .dataframe tbody tr th:only-of-type {\n",
              "        vertical-align: middle;\n",
              "    }\n",
              "\n",
              "    .dataframe tbody tr th {\n",
              "        vertical-align: top;\n",
              "    }\n",
              "\n",
              "    .dataframe thead th {\n",
              "        text-align: right;\n",
              "    }\n",
              "</style>\n",
              "<table border=\"1\" class=\"dataframe\">\n",
              "  <thead>\n",
              "    <tr style=\"text-align: right;\">\n",
              "      <th></th>\n",
              "      <th>Sport</th>\n",
              "      <th>Total Medals</th>\n",
              "    </tr>\n",
              "  </thead>\n",
              "  <tbody>\n",
              "    <tr>\n",
              "      <th>0</th>\n",
              "      <td>Aquatics</td>\n",
              "      <td>4170</td>\n",
              "    </tr>\n",
              "    <tr>\n",
              "      <th>1</th>\n",
              "      <td>Athletics</td>\n",
              "      <td>3638</td>\n",
              "    </tr>\n",
              "    <tr>\n",
              "      <th>17</th>\n",
              "      <td>Rowing</td>\n",
              "      <td>2667</td>\n",
              "    </tr>\n",
              "    <tr>\n",
              "      <th>4</th>\n",
              "      <td>Gymnastics</td>\n",
              "      <td>2307</td>\n",
              "    </tr>\n",
              "    <tr>\n",
              "      <th>3</th>\n",
              "      <td>Fencing</td>\n",
              "      <td>1613</td>\n",
              "    </tr>\n",
              "  </tbody>\n",
              "</table>\n",
              "</div>"
            ],
            "text/plain": [
              "         Sport  Total Medals\n",
              "0     Aquatics          4170\n",
              "1    Athletics          3638\n",
              "17      Rowing          2667\n",
              "4   Gymnastics          2307\n",
              "3      Fencing          1613"
            ]
          },
          "metadata": {},
          "execution_count": 32
        }
      ]
    },
    {
      "cell_type": "code",
      "metadata": {
        "colab": {
          "base_uri": "https://localhost:8080/",
          "height": 399
        },
        "id": "XgA7tOnLY9-X",
        "outputId": "a30ff3e0-2274-4f06-d0f7-94be48336e18"
      },
      "source": [
        "sp.plot(x = 'Sport', y = 'Total Medals', kind = 'bar', color = 'green', figsize = (5,5))"
      ],
      "execution_count": 41,
      "outputs": [
        {
          "output_type": "execute_result",
          "data": {
            "text/plain": [
              "<matplotlib.axes._subplots.AxesSubplot at 0x7f75497ddcd0>"
            ]
          },
          "metadata": {},
          "execution_count": 41
        },
        {
          "output_type": "display_data",
          "data": {
            "image/png": "[encoded data removed]",
            "text/plain": [
              "<Figure size 360x360 with 1 Axes>"
            ]
          },
          "metadata": {
            "needs_background": "light"
          }
        }
      ]
    },
    {
      "cell_type": "code",
      "metadata": {
        "colab": {
          "base_uri": "https://localhost:8080/",
          "height": 351
        },
        "id": "TDyybPBLZKT5",
        "outputId": "bdd48d99-4bbb-4d26-f51c-e8dcd78cdd27"
      },
      "source": [
        "#showing the sport which has the highest medals - line graph makes it easy for us to understand it\n",
        "\n",
        "sp.plot(x = 'Sport', y = 'Total Medals', kind = 'line', color = 'blue', figsize = (5,5))"
      ],
      "execution_count": 40,
      "outputs": [
        {
          "output_type": "execute_result",
          "data": {
            "text/plain": [
              "<matplotlib.axes._subplots.AxesSubplot at 0x7f75498ab8d0>"
            ]
          },
          "metadata": {},
          "execution_count": 40
        },
        {
          "output_type": "display_data",
          "data": {
            "image/png": "[encoded data removed]",
            "text/plain": [
              "<Figure size 360x360 with 1 Axes>"
            ]
          },
          "metadata": {
            "needs_background": "light"
          }
        }
      ]
    },
    {
      "cell_type": "code",
      "metadata": {
        "colab": {
          "base_uri": "https://localhost:8080/"
        },
        "id": "PVIk-uJEftcN",
        "outputId": "1bb45da5-7851-4f20-cc06-fb04c409226e"
      },
      "source": [
        "print(\"==============================================================================================\")\n",
        "print(\"==============================================================================================\")"
      ],
      "execution_count": 87,
      "outputs": [
        {
          "output_type": "stream",
          "name": "stdout",
          "text": [
            "==============================================================================================\n",
            "==============================================================================================\n"
          ]
        }
      ]
    },
    {
      "cell_type": "markdown",
      "metadata": {
        "id": "ss9kZ2qsOQfX"
      },
      "source": [
        "4. Which player has won most number of medals? (Top 5)"
      ]
    },
    {
      "cell_type": "code",
      "metadata": {
        "id": "WEXoUb6IOVe3",
        "colab": {
          "base_uri": "https://localhost:8080/",
          "height": 204
        },
        "outputId": "780d944e-af9b-4a94-832e-b29b66215c94"
      },
      "source": [
        "at = []\n",
        "for ap in df['Athlete'].unique():\n",
        "    at.append([ap, len(df[df['Athlete'] == ap])])\n",
        "at = pd.DataFrame(at, columns = ['Player', 'Total Medals'])\n",
        "at = at.sort_values(by = 'Total Medals', ascending = False).head()\n",
        "at"
      ],
      "execution_count": 37,
      "outputs": [
        {
          "output_type": "execute_result",
          "data": {
            "text/html": [
              "<div>\n",
              "<style scoped>\n",
              "    .dataframe tbody tr th:only-of-type {\n",
              "        vertical-align: middle;\n",
              "    }\n",
              "\n",
              "    .dataframe tbody tr th {\n",
              "        vertical-align: top;\n",
              "    }\n",
              "\n",
              "    .dataframe thead th {\n",
              "        text-align: right;\n",
              "    }\n",
              "</style>\n",
              "<table border=\"1\" class=\"dataframe\">\n",
              "  <thead>\n",
              "    <tr style=\"text-align: right;\">\n",
              "      <th></th>\n",
              "      <th>Player</th>\n",
              "      <th>Total Medals</th>\n",
              "    </tr>\n",
              "  </thead>\n",
              "  <tbody>\n",
              "    <tr>\n",
              "      <th>18640</th>\n",
              "      <td>PHELPS, Michael</td>\n",
              "      <td>22</td>\n",
              "    </tr>\n",
              "    <tr>\n",
              "      <th>7197</th>\n",
              "      <td>LATYNINA, Larisa</td>\n",
              "      <td>18</td>\n",
              "    </tr>\n",
              "    <tr>\n",
              "      <th>9948</th>\n",
              "      <td>ANDRIANOV, Nikolay</td>\n",
              "      <td>15</td>\n",
              "    </tr>\n",
              "    <tr>\n",
              "      <th>6591</th>\n",
              "      <td>ONO, Takashi</td>\n",
              "      <td>13</td>\n",
              "    </tr>\n",
              "    <tr>\n",
              "      <th>5103</th>\n",
              "      <td>MANGIAROTTI, Edoardo</td>\n",
              "      <td>13</td>\n",
              "    </tr>\n",
              "  </tbody>\n",
              "</table>\n",
              "</div>"
            ],
            "text/plain": [
              "                     Player  Total Medals\n",
              "18640       PHELPS, Michael            22\n",
              "7197       LATYNINA, Larisa            18\n",
              "9948     ANDRIANOV, Nikolay            15\n",
              "6591           ONO, Takashi            13\n",
              "5103   MANGIAROTTI, Edoardo            13"
            ]
          },
          "metadata": {},
          "execution_count": 37
        }
      ]
    },
    {
      "cell_type": "code",
      "metadata": {
        "colab": {
          "base_uri": "https://localhost:8080/",
          "height": 458
        },
        "id": "OP0EqPunaDRZ",
        "outputId": "be70a653-28d7-4c0c-c59d-3f3bad3d105a"
      },
      "source": [
        "at.plot(x = 'Player', y = 'Total Medals', kind = 'bar', color = 'purple', figsize = (5,5))"
      ],
      "execution_count": 39,
      "outputs": [
        {
          "output_type": "execute_result",
          "data": {
            "text/plain": [
              "<matplotlib.axes._subplots.AxesSubplot at 0x7f7549bcf0d0>"
            ]
          },
          "metadata": {},
          "execution_count": 39
        },
        {
          "output_type": "display_data",
          "data": {
            "image/png": "[encoded data removed]",
            "text/plain": [
              "<Figure size 360x360 with 1 Axes>"
            ]
          },
          "metadata": {
            "needs_background": "light"
          }
        }
      ]
    },
    {
      "cell_type": "code",
      "metadata": {
        "colab": {
          "base_uri": "https://localhost:8080/"
        },
        "id": "uoM-mVfYfqSl",
        "outputId": "b43d81b6-9116-4ef7-e012-23f10095ff3d"
      },
      "source": [
        "print(\"==============================================================================================\")\n",
        "print(\"==============================================================================================\")"
      ],
      "execution_count": 86,
      "outputs": [
        {
          "output_type": "stream",
          "name": "stdout",
          "text": [
            "==============================================================================================\n",
            "==============================================================================================\n"
          ]
        }
      ]
    },
    {
      "cell_type": "markdown",
      "metadata": {
        "id": "7PlBkkIUOWZb"
      },
      "source": [
        "5. Which player has won most number Gold Medals of medals? (Top 5)"
      ]
    },
    {
      "cell_type": "code",
      "metadata": {
        "id": "jeYBQDsYOZ-F",
        "colab": {
          "base_uri": "https://localhost:8080/",
          "height": 204
        },
        "outputId": "f60dde4b-b87e-4efb-b122-7a25c94fba7a"
      },
      "source": [
        "x = df[df['Medal'] == 'Gold']\n",
        "plgold = []\n",
        "for i in x['Athlete'].unique():\n",
        "    plgold.append([i, len(x[x['Athlete'] == i])])\n",
        "plgold = pd.DataFrame(plgold, columns = ['Player', 'NO OF Gold Medals'])\n",
        "plgold = plgold.sort_values(by = 'NO OF Gold Medals', ascending = False).head()\n",
        "plgold"
      ],
      "execution_count": 45,
      "outputs": [
        {
          "output_type": "execute_result",
          "data": {
            "text/html": [
              "<div>\n",
              "<style scoped>\n",
              "    .dataframe tbody tr th:only-of-type {\n",
              "        vertical-align: middle;\n",
              "    }\n",
              "\n",
              "    .dataframe tbody tr th {\n",
              "        vertical-align: top;\n",
              "    }\n",
              "\n",
              "    .dataframe thead th {\n",
              "        text-align: right;\n",
              "    }\n",
              "</style>\n",
              "<table border=\"1\" class=\"dataframe\">\n",
              "  <thead>\n",
              "    <tr style=\"text-align: right;\">\n",
              "      <th></th>\n",
              "      <th>Player</th>\n",
              "      <th>NO OF Gold Medals</th>\n",
              "    </tr>\n",
              "  </thead>\n",
              "  <tbody>\n",
              "    <tr>\n",
              "      <th>6851</th>\n",
              "      <td>PHELPS, Michael</td>\n",
              "      <td>18</td>\n",
              "    </tr>\n",
              "    <tr>\n",
              "      <th>3320</th>\n",
              "      <td>SPITZ, Mark</td>\n",
              "      <td>9</td>\n",
              "    </tr>\n",
              "    <tr>\n",
              "      <th>2714</th>\n",
              "      <td>LATYNINA, Larisa</td>\n",
              "      <td>9</td>\n",
              "    </tr>\n",
              "    <tr>\n",
              "      <th>4630</th>\n",
              "      <td>LEWIS, Carl</td>\n",
              "      <td>9</td>\n",
              "    </tr>\n",
              "    <tr>\n",
              "      <th>907</th>\n",
              "      <td>NURMI, Paavo</td>\n",
              "      <td>9</td>\n",
              "    </tr>\n",
              "  </tbody>\n",
              "</table>\n",
              "</div>"
            ],
            "text/plain": [
              "                Player  NO OF Gold Medals\n",
              "6851   PHELPS, Michael                 18\n",
              "3320       SPITZ, Mark                  9\n",
              "2714  LATYNINA, Larisa                  9\n",
              "4630       LEWIS, Carl                  9\n",
              "907       NURMI, Paavo                  9"
            ]
          },
          "metadata": {},
          "execution_count": 45
        }
      ]
    },
    {
      "cell_type": "code",
      "metadata": {
        "colab": {
          "base_uri": "https://localhost:8080/",
          "height": 480
        },
        "id": "xkWRDTE1bmu-",
        "outputId": "9e05851e-8efe-48b5-c4df-dbcde8301d4c"
      },
      "source": [
        "plgold.plot(x = 'Player', y = 'NO OF Gold Medals', kind = 'bar', color = 'pink', figsize = (6,6))"
      ],
      "execution_count": 55,
      "outputs": [
        {
          "output_type": "execute_result",
          "data": {
            "text/plain": [
              "<matplotlib.axes._subplots.AxesSubplot at 0x7f7549156650>"
            ]
          },
          "metadata": {},
          "execution_count": 55
        },
        {
          "output_type": "display_data",
          "data": {
            "image/png": "[encoded data removed]",
            "text/plain": [
              "<Figure size 432x432 with 1 Axes>"
            ]
          },
          "metadata": {
            "needs_background": "light"
          }
        }
      ]
    },
    {
      "cell_type": "code",
      "metadata": {
        "colab": {
          "base_uri": "https://localhost:8080/"
        },
        "id": "_Cf2NqMafnSu",
        "outputId": "fd59ba94-073a-4d45-cc7a-1f8346896b4a"
      },
      "source": [
        "print(\"==============================================================================================\")\n",
        "print(\"==============================================================================================\")"
      ],
      "execution_count": 85,
      "outputs": [
        {
          "output_type": "stream",
          "name": "stdout",
          "text": [
            "==============================================================================================\n",
            "==============================================================================================\n"
          ]
        }
      ]
    },
    {
      "cell_type": "markdown",
      "metadata": {
        "id": "h2bPWssqOaQq"
      },
      "source": [
        "6. In which year India won first Gold Medal in Summer Olympics?"
      ]
    },
    {
      "cell_type": "code",
      "metadata": {
        "colab": {
          "base_uri": "https://localhost:8080/"
        },
        "id": "onj6H3g4BM1n",
        "outputId": "4ee13da2-8548-4212-f184-8f28d060ffb5"
      },
      "source": [
        "m = df[df['Medal'] == 'Gold']\n",
        "c = m.loc[x['Country'] == 'IND']\n",
        "c.iloc[0]"
      ],
      "execution_count": 66,
      "outputs": [
        {
          "output_type": "execute_result",
          "data": {
            "text/plain": [
              "Year                          1928\n",
              "City                     Amsterdam\n",
              "Sport                       Hockey\n",
              "Discipline                  Hockey\n",
              "Athlete       ALLEN, Richard James\n",
              "Country                        IND\n",
              "Gender                         Men\n",
              "Event                       Hockey\n",
              "Medal                         Gold\n",
              "Name: 5512, dtype: object"
            ]
          },
          "metadata": {},
          "execution_count": 66
        }
      ]
    },
    {
      "cell_type": "code",
      "metadata": {
        "colab": {
          "base_uri": "https://localhost:8080/"
        },
        "id": "kT_0WFWKcryM",
        "outputId": "0db13658-b53f-480b-e9b3-2dd9c1893805"
      },
      "source": [
        "print(\"The year in which india won its first gold medal in summer olympics is: \",c['Year'].iloc[0])"
      ],
      "execution_count": 67,
      "outputs": [
        {
          "output_type": "stream",
          "name": "stdout",
          "text": [
            "The year in which india won its first gold medal in summer olympics is:  1928\n"
          ]
        }
      ]
    },
    {
      "cell_type": "code",
      "metadata": {
        "colab": {
          "base_uri": "https://localhost:8080/"
        },
        "id": "AWQbnTj3fj0K",
        "outputId": "bf890f46-66e8-47ac-bbbe-a2e575aa8147"
      },
      "source": [
        "print(\"==============================================================================================\")\n",
        "print(\"==============================================================================================\")"
      ],
      "execution_count": 84,
      "outputs": [
        {
          "output_type": "stream",
          "name": "stdout",
          "text": [
            "==============================================================================================\n",
            "==============================================================================================\n"
          ]
        }
      ]
    },
    {
      "cell_type": "markdown",
      "metadata": {
        "id": "75KqvQ_xOgOI"
      },
      "source": [
        "7. Which event is most popular in terms on number of players? (Top 5)"
      ]
    },
    {
      "cell_type": "code",
      "metadata": {
        "id": "Prcqumu6Omge",
        "colab": {
          "base_uri": "https://localhost:8080/",
          "height": 204
        },
        "outputId": "4353c027-9a35-41db-e310-14d8bda204c6"
      },
      "source": [
        "event = []\n",
        "for i in df['Event'].unique():\n",
        "    event.append([i, len(df[df['Event'] == i])])\n",
        "event = pd.DataFrame(event, columns = ['Event', 'Total no. of Players'])\n",
        "event = event.sort_values(by = 'Total no. of Players', ascending = False).head()\n",
        "event"
      ],
      "execution_count": 71,
      "outputs": [
        {
          "output_type": "execute_result",
          "data": {
            "text/html": [
              "<div>\n",
              "<style scoped>\n",
              "    .dataframe tbody tr th:only-of-type {\n",
              "        vertical-align: middle;\n",
              "    }\n",
              "\n",
              "    .dataframe tbody tr th {\n",
              "        vertical-align: top;\n",
              "    }\n",
              "\n",
              "    .dataframe thead th {\n",
              "        text-align: right;\n",
              "    }\n",
              "</style>\n",
              "<table border=\"1\" class=\"dataframe\">\n",
              "  <thead>\n",
              "    <tr style=\"text-align: right;\">\n",
              "      <th></th>\n",
              "      <th>Event</th>\n",
              "      <th>Total no. of Players</th>\n",
              "    </tr>\n",
              "  </thead>\n",
              "  <tbody>\n",
              "    <tr>\n",
              "      <th>80</th>\n",
              "      <td>Football</td>\n",
              "      <td>1497</td>\n",
              "    </tr>\n",
              "    <tr>\n",
              "      <th>176</th>\n",
              "      <td>Hockey</td>\n",
              "      <td>1422</td>\n",
              "    </tr>\n",
              "    <tr>\n",
              "      <th>138</th>\n",
              "      <td>Team Competition</td>\n",
              "      <td>1147</td>\n",
              "    </tr>\n",
              "    <tr>\n",
              "      <th>327</th>\n",
              "      <td>Basketball</td>\n",
              "      <td>1012</td>\n",
              "    </tr>\n",
              "    <tr>\n",
              "      <th>337</th>\n",
              "      <td>Handball</td>\n",
              "      <td>973</td>\n",
              "    </tr>\n",
              "  </tbody>\n",
              "</table>\n",
              "</div>"
            ],
            "text/plain": [
              "                Event  Total no. of Players\n",
              "80           Football                  1497\n",
              "176            Hockey                  1422\n",
              "138  Team Competition                  1147\n",
              "327        Basketball                  1012\n",
              "337          Handball                   973"
            ]
          },
          "metadata": {},
          "execution_count": 71
        }
      ]
    },
    {
      "cell_type": "code",
      "metadata": {
        "colab": {
          "base_uri": "https://localhost:8080/",
          "height": 431
        },
        "id": "BCSsuJ66d-6V",
        "outputId": "ce8b3945-f9f9-40cd-984c-aeb73a63b4cc"
      },
      "source": [
        "event.plot(x = 'Event', y = 'Total no. of Players', kind = 'bar', color = 'blue', figsize = (5,5))"
      ],
      "execution_count": 74,
      "outputs": [
        {
          "output_type": "execute_result",
          "data": {
            "text/plain": [
              "<matplotlib.axes._subplots.AxesSubplot at 0x7f75490d4a90>"
            ]
          },
          "metadata": {},
          "execution_count": 74
        },
        {
          "output_type": "display_data",
          "data": {
            "image/png": "[encoded data removed]",
            "text/plain": [
              "<Figure size 360x360 with 1 Axes>"
            ]
          },
          "metadata": {
            "needs_background": "light"
          }
        }
      ]
    },
    {
      "cell_type": "code",
      "metadata": {
        "colab": {
          "base_uri": "https://localhost:8080/"
        },
        "id": "V-6iLmQQfe5H",
        "outputId": "fcdc0b36-72e2-43d6-8c15-d61868388dc1"
      },
      "source": [
        "print(\"==============================================================================================\")\n",
        "print(\"==============================================================================================\")"
      ],
      "execution_count": 83,
      "outputs": [
        {
          "output_type": "stream",
          "name": "stdout",
          "text": [
            "==============================================================================================\n",
            "==============================================================================================\n"
          ]
        }
      ]
    },
    {
      "cell_type": "markdown",
      "metadata": {
        "id": "TQRfMZUFOm6T"
      },
      "source": [
        "8. Which sport is having most female Gold Medalists? (Top 5)"
      ]
    },
    {
      "cell_type": "code",
      "metadata": {
        "id": "S_HfBBdkOqcp",
        "colab": {
          "base_uri": "https://localhost:8080/",
          "height": 204
        },
        "outputId": "3571f5e1-df7a-4a6d-8824-c9de27110986"
      },
      "source": [
        "x = df[df['Medal'] == 'Gold']\n",
        "f = x[x['Gender'] == 'Women']\n",
        "wgold = []\n",
        "for i in f['Sport'].unique():\n",
        "    wgold.append([i, len(f[f['Sport'] == i])])\n",
        "wgold = pd.DataFrame(wgold, columns = ['Sport', 'Female Gold Medalists'])\n",
        "wgold = wgold.sort_values(by = 'Female Gold Medalists', ascending = False).head()\n",
        "wgold"
      ],
      "execution_count": 78,
      "outputs": [
        {
          "output_type": "execute_result",
          "data": {
            "text/html": [
              "<div>\n",
              "<style scoped>\n",
              "    .dataframe tbody tr th:only-of-type {\n",
              "        vertical-align: middle;\n",
              "    }\n",
              "\n",
              "    .dataframe tbody tr th {\n",
              "        vertical-align: top;\n",
              "    }\n",
              "\n",
              "    .dataframe thead th {\n",
              "        text-align: right;\n",
              "    }\n",
              "</style>\n",
              "<table border=\"1\" class=\"dataframe\">\n",
              "  <thead>\n",
              "    <tr style=\"text-align: right;\">\n",
              "      <th></th>\n",
              "      <th>Sport</th>\n",
              "      <th>Female Gold Medalists</th>\n",
              "    </tr>\n",
              "  </thead>\n",
              "  <tbody>\n",
              "    <tr>\n",
              "      <th>4</th>\n",
              "      <td>Aquatics</td>\n",
              "      <td>589</td>\n",
              "    </tr>\n",
              "    <tr>\n",
              "      <th>7</th>\n",
              "      <td>Athletics</td>\n",
              "      <td>389</td>\n",
              "    </tr>\n",
              "    <tr>\n",
              "      <th>8</th>\n",
              "      <td>Gymnastics</td>\n",
              "      <td>268</td>\n",
              "    </tr>\n",
              "    <tr>\n",
              "      <th>14</th>\n",
              "      <td>Rowing</td>\n",
              "      <td>217</td>\n",
              "    </tr>\n",
              "    <tr>\n",
              "      <th>11</th>\n",
              "      <td>Volleyball</td>\n",
              "      <td>166</td>\n",
              "    </tr>\n",
              "  </tbody>\n",
              "</table>\n",
              "</div>"
            ],
            "text/plain": [
              "         Sport  Female Gold Medalists\n",
              "4     Aquatics                    589\n",
              "7    Athletics                    389\n",
              "8   Gymnastics                    268\n",
              "14      Rowing                    217\n",
              "11  Volleyball                    166"
            ]
          },
          "metadata": {},
          "execution_count": 78
        }
      ]
    },
    {
      "cell_type": "code",
      "metadata": {
        "colab": {
          "base_uri": "https://localhost:8080/",
          "height": 454
        },
        "id": "1vazr1Hte6dD",
        "outputId": "8b1dfd1b-6035-43bb-bc80-90201ee89272"
      },
      "source": [
        "wgold.plot(x = 'Sport', y = 'Female Gold Medalists', kind = 'bar', color = 'magenta', figsize = (6,6))"
      ],
      "execution_count": 81,
      "outputs": [
        {
          "output_type": "execute_result",
          "data": {
            "text/plain": [
              "<matplotlib.axes._subplots.AxesSubplot at 0x7f7548ce0fd0>"
            ]
          },
          "metadata": {},
          "execution_count": 81
        },
        {
          "output_type": "display_data",
          "data": {
            "image/png": "[encoded data removed]",
            "text/plain": [
              "<Figure size 432x432 with 1 Axes>"
            ]
          },
          "metadata": {
            "needs_background": "light"
          }
        }
      ]
    },
    {
      "cell_type": "code",
      "metadata": {
        "id": "xTEIOxSJPFAQ",
        "colab": {
          "base_uri": "https://localhost:8080/"
        },
        "outputId": "db2e3671-fcb4-42fc-ed5d-81d1d6098274"
      },
      "source": [
        "print(\"==============================================================================================\")\n",
        "print(\"==============================================================================================\")"
      ],
      "execution_count": 82,
      "outputs": [
        {
          "output_type": "stream",
          "name": "stdout",
          "text": [
            "==============================================================================================\n",
            "==============================================================================================\n"
          ]
        }
      ]
    }
  ]
}